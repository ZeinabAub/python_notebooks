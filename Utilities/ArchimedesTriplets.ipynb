{
 "cells": [
  {
   "cell_type": "markdown",
   "metadata": {},
   "source": [
    "# Archimedes triplets finder"
   ]
  },
  {
   "cell_type": "markdown",
   "metadata": {},
   "source": [
    "Enter two integers to obtain a triplet"
   ]
  },
  {
   "cell_type": "code",
   "execution_count": 14,
   "metadata": {},
   "outputs": [
    {
     "name": "stdout",
     "output_type": "stream",
     "text": [
      "The triplet is 17, 15, 8\n",
      "The squares are 289, 225, 64\n"
     ]
    },
    {
     "data": {
      "text/plain": [
       "[17, 15, 8]"
      ]
     },
     "execution_count": 14,
     "metadata": {},
     "output_type": "execute_result"
    }
   ],
   "source": [
    "def find_triplet(a,b):\n",
    "  if a<b: #In this way the solutions are always positive\n",
    "    b, a = a,b\n",
    "  print(f'The triplet is {a**2+b**2}, {a**2-b**2}, {2*a*b}')\n",
    "  print(f'The squares are {a**4+b**4+2*a**2*b**2}, {a**4+b**4-2*a**2*b**2}, {4*a**2*b**2}')\n",
    "  return [a**2+b**2, a**2-b**2, 2*a*b]\n",
    "\n",
    "a, b = [int(a) for a in input(\"Input two integers: \").split()]\n",
    "find_triplet(a,b)"
   ]
  },
  {
   "cell_type": "markdown",
   "metadata": {},
   "source": [
    "In the complex plane, the number $a+ib$ has module $\\sqrt{a^2+b^2}$, so its square has an integer module $a^2+b^2$ and integer real and imaginary part, $a^2-b^2$ and $2ab$. \n",
    "So $a^2+b^2$, $a^2-b^2$ and $2ab$ make an Archimedes triplet."
   ]
  }
 ],
 "metadata": {
  "kernelspec": {
   "display_name": "Python 3",
   "language": "python",
   "name": "python3"
  },
  "language_info": {
   "codemirror_mode": {
    "name": "ipython",
    "version": 3
   },
   "file_extension": ".py",
   "mimetype": "text/x-python",
   "name": "python",
   "nbconvert_exporter": "python",
   "pygments_lexer": "ipython3",
   "version": "3.10.12"
  },
  "orig_nbformat": 4
 },
 "nbformat": 4,
 "nbformat_minor": 2
}
