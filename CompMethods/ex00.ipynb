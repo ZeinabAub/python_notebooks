{
 "cells": [
  {
   "cell_type": "markdown",
   "metadata": {},
   "source": [
    "# Mickey Mouse problem"
   ]
  },
  {
   "cell_type": "code",
   "execution_count": 11,
   "metadata": {},
   "outputs": [
    {
     "name": "stdout",
     "output_type": "stream",
     "text": [
      "(1, 2, 'Donald', 4, 'Donald', 'Donald', 7, 8, 'Donald', 'Donald', 11, 'Donald', 13, 14, 'MickeyMouse', 16, 17, 'Donald', 19, 'Donald', 'Donald', 22, 23, 'Donald', 'Donald', 26, 'Donald', 28, 29, 'MickeyMouse', 31, 32, 'Donald', 34, 'Donald', 'Donald', 37, 38, 'Donald', 'Donald', 41, 'Donald', 43, 44, 'MickeyMouse', 46, 47, 'Donald', 49, 'Donald', 'Donald', 52, 53, 'Donald', 'Donald', 56, 'Donald', 58, 59, 'MickeyMouse', 61, 62, 'Donald', 64, 'Donald', 'Donald', 67, 68, 'Donald', 'Donald', 71, 'Donald', 73, 74, 'MickeyMouse', 76, 77, 'Donald', 79, 'Donald', 'Donald', 82, 83, 'Donald', 'Donald', 86, 'Donald', 88, 89, 'MickeyMouse', 91, 92, 'Donald', 94, 'Donald', 'Donald', 97, 98, 'Donald')\n"
     ]
    }
   ],
   "source": [
    "a = []\n",
    "\n",
    "for i in range(1,100):\n",
    "    if i%3==0 and i%5==0:\n",
    "        a.append('MickeyMouse')\n",
    "    elif i%3 ==0:\n",
    "        a.append('Mickey')\n",
    "    elif i%5 ==0:\n",
    "        a.append('Mouse')\n",
    "    else:\n",
    "        a.append(i)\n",
    "\n",
    "a = tuple(a)\n",
    "\n",
    "b = []\n",
    "for i in a:\n",
    "     if i == 'Mickey':\n",
    "        b.append('Donald')\n",
    "     elif i=='Mouse':\n",
    "        b.append('Donald')\n",
    "     else:\n",
    "        b.append(i)\n",
    "    \n",
    "b = tuple(b)\n",
    "print(b)"
   ]
  },
  {
   "cell_type": "code",
   "execution_count": 12,
   "metadata": {},
   "outputs": [
    {
     "name": "stdout",
     "output_type": "stream",
     "text": [
      "('MickeyMouse', 1, 2, 'Mickey', 4, 'Mouse', 'Mickey', 7, 8, 'Mickey', 'Mouse', 11, 'Mickey', 13, 14, 'MickeyMouse', 16, 17, 'Mickey', 19, 'Mouse', 'Mickey', 22, 23, 'Mickey', 'Mouse', 26, 'Mickey', 28, 29, 'MickeyMouse', 31, 32, 'Mickey', 34, 'Mouse', 'Mickey', 37, 38, 'Mickey', 'Mouse', 41, 'Mickey', 43, 44, 'MickeyMouse', 46, 47, 'Mickey', 49, 'Mouse', 'Mickey', 52, 53, 'Mickey', 'Mouse', 56, 'Mickey', 58, 59, 'MickeyMouse', 61, 62, 'Mickey', 64, 'Mouse', 'Mickey', 67, 68, 'Mickey', 'Mouse', 71, 'Mickey', 73, 74, 'MickeyMouse', 76, 77, 'Mickey', 79, 'Mouse', 'Mickey', 82, 83, 'Mickey', 'Mouse', 86, 'Mickey', 88, 89, 'MickeyMouse', 91, 92, 'Mickey', 94, 'Mouse', 'Mickey', 97, 98, 'Mickey')\n",
      "('DonaldDuck', 1, 2, 'Donald', 4, 'Duck', 'Donald', 7, 8, 'Donald', 'Duck', 11, 'Donald', 13, 14, 'DonaldDuck', 16, 17, 'Donald', 19, 'Duck', 'Donald', 22, 23, 'Donald', 'Duck', 26, 'Donald', 28, 29, 'DonaldDuck', 31, 32, 'Donald', 34, 'Duck', 'Donald', 37, 38, 'Donald', 'Duck', 41, 'Donald', 43, 44, 'DonaldDuck', 46, 47, 'Donald', 49, 'Duck', 'Donald', 52, 53, 'Donald', 'Duck', 56, 'Donald', 58, 59, 'DonaldDuck', 61, 62, 'Donald', 64, 'Duck', 'Donald', 67, 68, 'Donald', 'Duck', 71, 'Donald', 73, 74, 'DonaldDuck', 76, 77, 'Donald', 79, 'Duck', 'Donald', 82, 83, 'Donald', 'Duck', 86, 'Donald', 88, 89, 'DonaldDuck', 91, 92, 'Donald', 94, 'Duck', 'Donald', 97, 98, 'Donald')\n"
     ]
    }
   ],
   "source": [
    "# A shorter, less readable way of doing that using list comprehension and if statement\n",
    "\n",
    "a = tuple(['MickeyMouse' if i%3==0 and i%5 ==0 else 'Mickey' if i%3==0 else 'Mouse' if i%5==0 else i for i in range(100)])\n",
    "print(a)\n",
    "\n",
    "b = tuple(['DonaldDuck' if i == 'MickeyMouse' else 'Donald' if i == 'Mickey' else 'Duck' if i == 'Mouse' else i for i in a])\n",
    "print(b)\n"
   ]
  },
  {
   "cell_type": "markdown",
   "metadata": {},
   "source": [
    "# Swap"
   ]
  },
  {
   "cell_type": "code",
   "execution_count": 13,
   "metadata": {},
   "outputs": [
    {
     "name": "stdout",
     "output_type": "stream",
     "text": [
      "1 Bravo\n",
      "Bravo 1\n"
     ]
    }
   ],
   "source": [
    "def swap(a,b):\n",
    "    return b, a\n",
    "\n",
    "a, b =1, 'Bravo'\n",
    "print(a,b)\n",
    "\n",
    "a, b = b, a\n",
    "print(a,b)"
   ]
  },
  {
   "cell_type": "markdown",
   "metadata": {},
   "source": [
    "# Counting letters"
   ]
  },
  {
   "cell_type": "code",
   "execution_count": 14,
   "metadata": {},
   "outputs": [],
   "source": [
    "s=\"Write a program that prints the numbers from 1 to 100. \\\n",
    "But for multiples of three print Mickey instead of the number and for the multiples of five print Mouse. \\\n",
    "For numbers which are multiples of both three and five print MickeyMouse\""
   ]
  },
  {
   "cell_type": "code",
   "execution_count": 15,
   "metadata": {},
   "outputs": [],
   "source": [
    "s = s.upper() #make all letters uppercase\n",
    "\n",
    "char_count = {}\n",
    "for i in s:\n",
    "    if i in char_count.keys():\n",
    "        char_count[i]+=1\n",
    "    else :\n",
    "        char_count[i]=1"
   ]
  },
  {
   "cell_type": "markdown",
   "metadata": {},
   "source": [
    "# Pytagorean triplets"
   ]
  },
  {
   "cell_type": "code",
   "execution_count": 16,
   "metadata": {},
   "outputs": [
    {
     "name": "stdout",
     "output_type": "stream",
     "text": [
      "[(3, 4, 5), (5, 12, 13), (6, 8, 10), (7, 24, 25), (8, 15, 17), (9, 12, 15), (9, 40, 41), (10, 24, 26), (11, 60, 61), (12, 16, 20), (12, 35, 37), (13, 84, 85), (14, 48, 50), (15, 20, 25), (15, 36, 39), (16, 30, 34), (16, 63, 65), (18, 24, 30), (18, 80, 82), (20, 21, 29), (20, 48, 52), (21, 28, 35), (21, 72, 75), (24, 32, 40), (24, 45, 51), (24, 70, 74), (25, 60, 65), (27, 36, 45), (28, 45, 53), (30, 40, 50), (30, 72, 78), (32, 60, 68), (33, 44, 55), (33, 56, 65), (35, 84, 91), (36, 48, 60), (36, 77, 85), (39, 52, 65), (39, 80, 89), (40, 42, 58), (40, 75, 85), (42, 56, 70), (45, 60, 75), (48, 55, 73), (48, 64, 80), (51, 68, 85), (54, 72, 90), (57, 76, 95), (60, 63, 87), (65, 72, 97)]\n"
     ]
    }
   ],
   "source": [
    "r = range(1,100)\n",
    "\n",
    "#Nested list comprehension. Write the tuple only if the condition a**2+b**2 = c**2. a>b is not necessary but useful to obtain only half\n",
    "# of the tuples, as both (a,b,c) and (b,a,c) are going to be printed\n",
    "\n",
    "pt = [(a,b,c) for a in r for b in r for c in r if a < b and a**2+b**2 == c**2]\n",
    "print(pt)"
   ]
  },
  {
   "cell_type": "markdown",
   "metadata": {},
   "source": [
    "# Normalization"
   ]
  },
  {
   "cell_type": "code",
   "execution_count": 17,
   "metadata": {},
   "outputs": [
    {
     "name": "stdout",
     "output_type": "stream",
     "text": [
      "(0.009949879346007117, 0.09949879346007116, 0.9949879346007117)\n"
     ]
    }
   ],
   "source": [
    "def normalize(a):\n",
    "    \n",
    "    # using th funcvtion sum to sum all the values in a list of squares created with list comprehension\n",
    "    mag = sum([i**2 for i in a])\n",
    "    mag = mag**0.5\n",
    "    #return a list comprehension and make it a tuple\n",
    "    return tuple(i/mag for i in a)\n",
    "\n",
    "print(normalize((1,10,100)))\n",
    "    \n",
    "    "
   ]
  },
  {
   "cell_type": "code",
   "execution_count": null,
   "metadata": {},
   "outputs": [],
   "source": []
  }
 ],
 "metadata": {
  "kernelspec": {
   "display_name": "Python 3",
   "language": "python",
   "name": "python3"
  },
  "language_info": {
   "codemirror_mode": {
    "name": "ipython",
    "version": 3
   },
   "file_extension": ".py",
   "mimetype": "text/x-python",
   "name": "python",
   "nbconvert_exporter": "python",
   "pygments_lexer": "ipython3",
   "version": "3.10.12"
  }
 },
 "nbformat": 4,
 "nbformat_minor": 2
}
