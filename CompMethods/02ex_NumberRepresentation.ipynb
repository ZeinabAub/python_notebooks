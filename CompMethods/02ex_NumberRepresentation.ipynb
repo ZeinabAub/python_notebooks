{
 "cells": [
  {
   "cell_type": "markdown",
   "metadata": {},
   "source": [
    "1\\. Write a function that converts number representation, bin<->dec<->hex. (Clearly using the corresponding python built-in functions is not fair..)"
   ]
  },
  {
   "cell_type": "markdown",
   "metadata": {},
   "source": [
    "2\\. Write a function that converts a 32 bit word into a single precision floating point (i.e. interprets the various bits as sign, mantissa and exponent)"
   ]
  },
  {
   "cell_type": "markdown",
   "metadata": {},
   "source": [
    "3\\. Write a program to determine the underflow and overflow limits (within a factor of 2) for python on your computer. \n",
    "\n",
    "**Tips**: define two variables inizialized to 1 and halve/double them enough time to exceed the under/over-flow limits  "
   ]
  },
  {
   "cell_type": "markdown",
   "metadata": {},
   "source": [
    "4\\. Write a program to determine the machine precision\n",
    "\n",
    "**Tips**: define a new variable by adding a smaller and smaller value (proceeding similarly to prob. 2) to an original variable and check the point where the two are the same "
   ]
  },
  {
   "cell_type": "markdown",
   "metadata": {},
   "source": [
    "5\\. Write a function that takes in input three parameters $a$, $b$ and $c$ and prints out the two solutions to the quadratic equation $ax^2+bx+c=0$ using the standard formula:\n",
    "$$\n",
    "x=\\frac{-b\\pm\\sqrt{b^2-4ac}}{2a}\n",
    "$$\n",
    "\n",
    "(a) use the program to compute the solution for $a=0.001$, $b=1000$ and $c=0.001$\n",
    "\n",
    "(b) re-express the standard solution formula by multiplying top and bottom by $-b\\mp\\sqrt{b^2-4ac}$ and again find the solution for $a=0.001$, $b=1000$ and $c=0.001$. How does it compare with what previously obtained? Why?\n",
    "\n",
    "(c) write a function that compute the roots of a quadratic equation accurately in all cases"
   ]
  },
  {
   "cell_type": "markdown",
   "metadata": {},
   "source": [
    "6\\. Write a program that implements the function $f(x)=x(x−1)$\n",
    "\n",
    "(a) Calculate the derivative of the function at the point $x = 1$ using the derivative definition:\n",
    "\n",
    "$$\n",
    "\\frac{{\\rm d}f}{{\\rm d}x} = \\lim_{\\delta\\to0} \\frac{f(x+\\delta)-f(x)}{\\delta}\n",
    "$$\n",
    "\n",
    "with $\\delta = 10^{−2}$. Calculate the true value of the same derivative analytically and compare with the answer your program gives. The two will not agree perfectly. Why not?\n",
    "\n",
    "(b) Repeat the calculation for $\\delta = 10^{−4}, 10^{−6}, 10^{−8}, 10^{−10}, 10^{−12}$ and $10^{−14}$. How does the accuracy scales with $\\delta$?"
   ]
  },
  {
   "cell_type": "markdown",
   "metadata": {},
   "source": [
    "7\\. Consider the integral of the semicircle of radius 1:\n",
    "$$\n",
    "I=\\int_{-1}^{1} \\sqrt(1-x^2) {\\rm d}x\n",
    "$$\n",
    "which it's known to be $I=\\frac{\\pi}{2}=1.57079632679...$.\n",
    "Alternatively we can use the Riemann definition of the integral:\n",
    "$$\n",
    "I=\\lim_{N\\to\\infty} \\sum_{k=1}^{N} h y_k \n",
    "$$\n",
    "\n",
    "with $h=2/N$ the width of each of the $N$ slices the domain is divided into and where\n",
    "$y_k$ is the value of the function at the $k-$th slice.\n",
    "\n",
    "(a) Write a programe to compute the integral with $N=100$. How does the result compares to the true value?\n",
    "\n",
    "(b) How much can $N$ be increased if the computation needs to be run in less than a second? What is the gain in running it for 1 minute? \n"
   ]
  },
  {
   "attachments": {},
   "cell_type": "markdown",
   "metadata": {},
   "source": [
    "### Conversion of numbers"
   ]
  },
  {
   "cell_type": "code",
   "execution_count": 66,
   "metadata": {},
   "outputs": [],
   "source": [
    "#The numbers are passed like strings\n",
    "\n",
    "# any base to base ten\n",
    "\n",
    "def bin2dec(a, base =2):\n",
    "    coeff = {'0':0, '1':1}\n",
    "    a = str(a)  #The number is transformend into a string to access the single coefficients\n",
    "    b = 0\n",
    "    for i in range(len(a)):  \n",
    "        try:    #if it works, i.e. it finds the key, the conversion is valid\n",
    "            b += coeff[a[len(a)-1-i]]*base**i  #Function to obtain the decimal representation of a\n",
    "        except:\n",
    "            print('This number is not in a valid form')\n",
    "    return b\n",
    "\n",
    "def hex2dec(a, base=16):\n",
    "    coeff = {'0':0, '1':1, '2':2, '3':3, '4':4, '5':5, '6':6, '7':7, '8':8, '9':9, 'a':10, 'b':11, 'c':12, 'd':13, 'e':14, 'f':15}\n",
    "    a = str(a)  #The number is transformend into a string to access the single coefficients\n",
    "    b = 0\n",
    "    for i in range(len(a)):  \n",
    "        try:    #if it works, i.e. it finds the key, the conversion is valid\n",
    "            b += coeff[a[len(a)-1-i]]*base**i  #Function to obtain the decimal representation of a\n",
    "        except:\n",
    "            print('This number is not in a valid form')\n",
    "    return b\n",
    "\n",
    "#Just to flex\n",
    "\n",
    "def any2dec(a, base):\n",
    "\n",
    "    coeff = {'0':0, '1':1, '2':2, '3':3, '4':4, '5':5, '6':6, '7':7, '8':8, '9':9, 'a':10, 'b':11, 'c':12, 'd':13, 'e':14, 'f':15}\n",
    "\n",
    "    restricted_keys = list(coeff.keys())[0:base] # I take a list of the keys allowed for this base\n",
    "    coeff = dict((k, coeff[k]) for k in restricted_keys)\n",
    "    a = str(a)  #The number is transformend into a string to access the single coefficients\n",
    "    b = 0\n",
    "    for i in range(len(a)):  \n",
    "        try:    #if it works, i.e. it finds the key, the conversion is valid\n",
    "            b += coeff[a[len(a)-1-i]]*base**i  #Function to obtain the decimal representation of a\n",
    "        except:\n",
    "            print('This number is not in a valid form or base')\n",
    "    return b\n",
    "\n",
    "def dec2any(a, base): #It's computed using recursive divisions\n",
    "\n",
    "    coeff = {'0':0, '1':1, '2':2, '3':3, '4':4, '5':5, '6':6, '7':7, '8':8, '9':9, 'a':10, 'b':11, 'c':12, 'd':13, 'e':14, 'f':15}\n",
    "    b = ''  #the value is returned as a string\n",
    "\n",
    "    while (a>0):\n",
    "        c = a % base   #remainder that will be used to get the key from the position of the coeff dict\n",
    "        b = list(coeff.keys())[c] + b   #The new value is appended to the left of the string\n",
    "        a = a//base           #Integer division\n",
    "        \n",
    "    print(b)\n",
    "\n"
   ]
  },
  {
   "cell_type": "code",
   "execution_count": 67,
   "metadata": {},
   "outputs": [
    {
     "name": "stdout",
     "output_type": "stream",
     "text": [
      "dict_keys(['0', '1', '2', '3', '4', '5', '6', '7', '8', '9', 'a', 'b', 'c', 'd', 'e', 'f'])\n",
      "11\n"
     ]
    }
   ],
   "source": [
    "dec2any(17,16)"
   ]
  }
 ],
 "metadata": {
  "kernelspec": {
   "display_name": "Python 3 (ipykernel)",
   "language": "python",
   "name": "python3"
  },
  "language_info": {
   "codemirror_mode": {
    "name": "ipython",
    "version": 3
   },
   "file_extension": ".py",
   "mimetype": "text/x-python",
   "name": "python",
   "nbconvert_exporter": "python",
   "pygments_lexer": "ipython3",
   "version": "3.6.8"
  }
 },
 "nbformat": 4,
 "nbformat_minor": 2
}
