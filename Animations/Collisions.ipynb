{
 "cells": [
  {
   "cell_type": "markdown",
   "metadata": {},
   "source": [
    "# One and two dimensions collisions"
   ]
  },
  {
   "cell_type": "markdown",
   "metadata": {},
   "source": [
    "## One dimension"
   ]
  },
  {
   "cell_type": "markdown",
   "metadata": {},
   "source": [
    "The energy and the momentum is conserved, and in the CM refernce frame it is zero. So the equations yield:\n",
    "$$ v_{CM}= \\frac{m_1v_1+m_2v_2}{m_1+m_2}$$\n",
    "$$u_i = v_i-v_{CM}$$ \n",
    "$$m_1u_1+m_2u_2=0$$\n",
    " $$m_1U_1+m_2U_2=0$$\n",
    " $$ m_1u_1^2+m_2u_2^2 = m_1U_1^2+m_2U_2^2 $$\n",
    "\n",
    "From which $U_1 = -u_1$, $U_2=-u_2$, and back in the original frame ($v_i = u_i-v_{CM}$) \n",
    "$$ V_i = -v_i + 2v_{CM} $$\n",
    "$$ V_1 = \\frac{m_2-m_1}{m_1+m_2}v_1+\\frac{2m_2}{m_1+m_2}v_2 $$"
   ]
  },
  {
   "cell_type": "code",
   "execution_count": 52,
   "metadata": {},
   "outputs": [],
   "source": [
    "import matplotlib.pyplot as plt\n",
    "import matplotlib.animation as ani\n",
    "import numpy as np\n",
    "from IPython.display import display, clear_output, HTML\n",
    "from scipy.integrate import solve_ivp\n",
    "\n",
    "from physics import mover, handle_collisions"
   ]
  },
  {
   "cell_type": "code",
   "execution_count": 53,
   "metadata": {},
   "outputs": [],
   "source": [
    "A = mover(mass = 2.0, v0 = 5, name = 'A', size = 0.5)\n",
    "B = mover(mass = 1.0, v0 = -10, name = 'B', size = 0.5)\n",
    "d = 1 #Dimensions of the system\n",
    "N = 2 #Number of bodies in the system\n",
    "\n",
    "#Calculating the starting point from the collision point (0.0)\n",
    "DT = 2.0  #Time before impact\n",
    "A.set_q([- A.v()*DT-A.size])\n",
    "B.set_q([- B.v()*DT-B.size])\n",
    "\n",
    "def collision(v1, v2):\n",
    "  print(v1, v2)\n",
    "  V1 = v2\n",
    "  V2 = v1\n",
    "  return V1, V2\n",
    "  "
   ]
  },
  {
   "cell_type": "code",
   "execution_count": 54,
   "metadata": {},
   "outputs": [
    {
     "name": "stdout",
     "output_type": "stream",
     "text": [
      "<function collision at 0x7f81dd5bb640>\n",
      "5.0 -10.0\n"
     ]
    }
   ],
   "source": [
    "dt = 0.01\n",
    "t0, tf = -DT, DT\n",
    "T = np.arange(t0, tf,dt)\n",
    "\n",
    "#Differential function\n",
    "def f(t,y):\n",
    "  n = d*N\n",
    "  q , p = y[0:n], y[n:2*n]\n",
    "  if (np.abs(q[0]-q[1])-A.size-B.size<0):\n",
    "    print(collision)\n",
    "    p[0], p[1] = collision(p[0], p[1])\n",
    "  \n",
    "  dp = np.zeros(n)\n",
    "  dq = p  \n",
    "  return np.append(dq, dp)\n",
    "  \n",
    "\n",
    "y0 = np.array([A.q(), B.q(), A.v(), B.v()])\n",
    "\n",
    "Y = solve_ivp(f, (t0, tf), y0, 'RK45', t_eval=T, dense_output=True, rtol = 1e-12)\n",
    "\n",
    "bodies = [A, B]\n",
    "N = len(bodies)\n",
    "d = 1\n",
    "\n",
    "for i in range(N):\n",
    "  bodies[i].set_T(T)\n",
    "  bodies[i].set_q(np.transpose(Y.y[i*d:(i+1)*d]))\n",
    "  bodies[i].set_p(np.transpose(Y.y[(N+i)*d:(N+i+1)*d]))"
   ]
  },
  {
   "cell_type": "code",
   "execution_count": 55,
   "metadata": {},
   "outputs": [],
   "source": [
    "fig, ax = plt.subplots()\n",
    "ax.set_aspect('equal')\n",
    "fig.suptitle('1D collisions')\n",
    "for a in [A,B]:\n",
    "  a.marker, = ax.plot([-20,20],[-20,20], 'o')\n",
    "  a.marker.set_label(a.name)\n",
    "  \n",
    "ax.set_xlabel('x')\n",
    "ax.set_ylabel('y')\n",
    "ax.grid()\n",
    "plt.legend()\n",
    "\n",
    "plt.close('all')"
   ]
  },
  {
   "cell_type": "code",
   "execution_count": 56,
   "metadata": {},
   "outputs": [],
   "source": [
    "def animate(i, n_frames=None, n_points=None):\n",
    "  n = round(i*n_points/n_frames) #Mapping the number of points to be added for each frame\n",
    "  for a in [A,B]:\n",
    "    a.marker.set_data(a.q(n)[0], 0.0)  #Plot the positions"
   ]
  },
  {
   "cell_type": "code",
   "execution_count": 57,
   "metadata": {},
   "outputs": [
    {
     "data": {
      "image/png": "[encoded data removed]",
      "text/plain": [
       "<Figure size 640x480 with 1 Axes>"
      ]
     },
     "metadata": {},
     "output_type": "display_data"
    }
   ],
   "source": [
    "n_frames = 100\n",
    "n_points = len(T)\n",
    "\n",
    "for i in range(n_frames):\n",
    "    animate(i, n_frames, n_points)\n",
    "    clear_output(wait=True) \n",
    "    display(fig)"
   ]
  },
  {
   "cell_type": "markdown",
   "metadata": {},
   "source": [
    "### Two dimension"
   ]
  },
  {
   "cell_type": "markdown",
   "metadata": {},
   "source": [
    "The system lives in a plane. Now there are two components for the velocity, one parallel and one perpendicular to the direction of the collision $ \\bm{u}_c = \\frac{r_2-2_1}{|r_2-r_1|} $. So the conservation of energy is now given by \n",
    "$$ m_1u_{1,\\parallel}^2+m_1u_{1,\\perp}^2+m_2u_{2,\\parallel}^2+m_2u_{2,\\perp}^2 = m_1U_{1,\\parallel}^2+m_1U_{1,\\perp}^2+m_2U_{2,\\parallel}^2+m_2U_{2,\\perp}^2  $$  \n",
    "Now there are 5 equations for 8 variables, but knowing that the force acts only on the direction of the collision, the perpendicular velocity doesn't change, and the change interests only the parallel one and it's the same as for the first case.  \n",
    "Now $V= V_{\\parallel} + V_{\\perp} = V_{\\perp} - V_{\\parallel} +2 V_{CM, \\parallel} = V + 2(V_{CM, \\parallel}- V_{\\parallel}) = V + 2(V_{CM}-V)_{\\parallel}$  \n",
    "This gives the final formula\n",
    "$$ V_1 = v_1 + 2\\frac{m_2}{m_1+m_2}\\frac{(v_2-v_1)\\cdot(r_2-r_1)}{||r_2-r_1||}(r_2-r_1) $$\n"
   ]
  }
 ],
 "metadata": {
  "kernelspec": {
   "display_name": "Python 3",
   "language": "python",
   "name": "python3"
  },
  "language_info": {
   "codemirror_mode": {
    "name": "ipython",
    "version": 3
   },
   "file_extension": ".py",
   "mimetype": "text/x-python",
   "name": "python",
   "nbconvert_exporter": "python",
   "pygments_lexer": "ipython3",
   "version": "3.10.12"
  },
  "orig_nbformat": 4
 },
 "nbformat": 4,
 "nbformat_minor": 2
}
