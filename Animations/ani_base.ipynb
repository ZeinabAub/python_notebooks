{
 "cells": [
  {
   "cell_type": "markdown",
   "metadata": {},
   "source": [
    "## Animazione una volta per tutte"
   ]
  },
  {
   "cell_type": "markdown",
   "metadata": {},
   "source": [
    "Sia usando animando in tempo reale che usando FuncAnimation"
   ]
  },
  {
   "cell_type": "code",
   "execution_count": null,
   "metadata": {},
   "outputs": [],
   "source": [
    "import matplotlib.pyplot as plt\n",
    "import matplotlib.animation as animation\n",
    "import numpy as np\n",
    "from IPython.display import display, clear_output, HTML"
   ]
  },
  {
   "cell_type": "code",
   "execution_count": null,
   "metadata": {},
   "outputs": [],
   "source": [
    "fig, ax = plt.subplots()\n",
    "fig.suptitle('Esempio base animazione')\n",
    "l,a = ax.plot([-1,1],[-3,3],[-1,1],[3,3])\n",
    "ax.set_xlabel('x')\n",
    "ax.set_ylabel('y')\n",
    "ax.grid()\n",
    "time_label = ax.text(0.05,0.9, '', transform = ax.transAxes)\n",
    "l.set_label('$x^3$')\n",
    "a.set_label('$x^2$')\n",
    "\n",
    "N = 1000\n",
    "x = np.linspace(-1.0,1.0, N)\n",
    "y = x**3\n",
    "z = x**2\n",
    "plt.legend()\n",
    "\n",
    "frames = 100\n",
    "plt.close('all')\n",
    "\n"
   ]
  },
  {
   "cell_type": "markdown",
   "metadata": {},
   "source": [
    "The animate functions draw the generic frame of the animation"
   ]
  },
  {
   "cell_type": "code",
   "execution_count": null,
   "metadata": {},
   "outputs": [],
   "source": [
    "\n",
    "def animate(i, frames=None, N=None):\n",
    "  n = round(i*N/frames) #Mapping the number of points to be added for each frame\n",
    "  l.set_data(x[:n], y[:n])\n",
    "  a.set_data(x[:n], z[:n])\n",
    "  time_label.set_text(f'Frame {i}')\n",
    "  \n"
   ]
  },
  {
   "cell_type": "markdown",
   "metadata": {},
   "source": [
    "Realtime animation using display"
   ]
  },
  {
   "cell_type": "code",
   "execution_count": null,
   "metadata": {},
   "outputs": [],
   "source": [
    "for i in range(frames):\n",
    "    animate(i, frames, N)\n",
    "    display(fig)\n",
    "    clear_output(wait=True)   "
   ]
  },
  {
   "cell_type": "markdown",
   "metadata": {},
   "source": [
    "Gif animation using jshtml()"
   ]
  },
  {
   "cell_type": "code",
   "execution_count": null,
   "metadata": {},
   "outputs": [],
   "source": [
    "duration = 5.0 #duration in seconds\n",
    "fps = 10\n",
    "n_frames = round(duration*fps) #total of frames to be drawn\n",
    "ani = animation.FuncAnimation(fig, animate, n_frames, fargs = (n_frames,N), interval = 1000.0/fps)\n",
    "plt.close('all')\n",
    "HTML(ani.to_jshtml())\n"
   ]
  }
 ],
 "metadata": {
  "kernelspec": {
   "display_name": "Python 3",
   "language": "python",
   "name": "python3"
  },
  "language_info": {
   "codemirror_mode": {
    "name": "ipython",
    "version": 3
   },
   "file_extension": ".py",
   "mimetype": "text/x-python",
   "name": "python",
   "nbconvert_exporter": "python",
   "pygments_lexer": "ipython3",
   "version": "3.10.12"
  },
  "orig_nbformat": 4
 },
 "nbformat": 4,
 "nbformat_minor": 2
}
