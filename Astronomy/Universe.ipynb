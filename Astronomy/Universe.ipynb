{
 "cells": [
  {
   "cell_type": "markdown",
   "metadata": {},
   "source": [
    "# Universe Evolution from the Friedmann equations"
   ]
  },
  {
   "cell_type": "markdown",
   "metadata": {},
   "source": [
    "## Friedmann Equations"
   ]
  },
  {
   "cell_type": "markdown",
   "metadata": {},
   "source": [
    "The equations are\n",
    "$$ \\left( \\frac{\\dot a}{a} \\right)^2 = \\frac{8 \\pi G}{3} \\rho - \\frac{kc^2}{a^2}$$  \n",
    "$$ \\dot\\rho_i =  -3\\frac{\\dot a}{a}\\left(\\rho_i+\\frac{P_i}{c^2}\\right) $$ \n",
    "This can be rewritten as $ p(t) = p_0 \\left( \\frac{a}{a_0} \\right) ^{-3(1+w)}$ or using the ratio $ \\Omega=\\frac{\\rho}{\\rho_c}= \\rho \\frac{8 \\pi G}{3H^2} $ we got \n",
    "$$ \\left( \\frac{\\dot a}{a} \\right)^2 = H_0^2 (\\Omega_ma^{-3} + \\Omega_r a^{-4} + \\Omega_\\Lambda- \\frac{kc^2}{a^2}) $$  \n"
   ]
  },
  {
   "cell_type": "code",
   "execution_count": 6,
   "metadata": {},
   "outputs": [],
   "source": [
    "import matplotlib.pyplot as plt\n",
    "import numpy as np\n",
    "from scipy.integrate import solve_ivp\n",
    "\n",
    "G = 6.6743e-11\n",
    "c =  299792458 \n",
    "H0 = 2.27e-18 #Hubble constant in Si units"
   ]
  },
  {
   "cell_type": "markdown",
   "metadata": {},
   "source": [
    "### Properties of the universe at t0"
   ]
  },
  {
   "cell_type": "code",
   "execution_count": 7,
   "metadata": {},
   "outputs": [
    {
     "name": "stdout",
     "output_type": "stream",
     "text": [
      "9.215679991814431e-27\n"
     ]
    }
   ],
   "source": [
    "critical_density = lambda H : 3*H**2/(8*np.pi*G)\n",
    "\n",
    "print(critical_density(H0))"
   ]
  },
  {
   "cell_type": "code",
   "execution_count": 8,
   "metadata": {},
   "outputs": [],
   "source": [
    "Omega0 = {'m': 1.0, 'r':0.0, 'L': 0.0, 'k': 0.0}"
   ]
  },
  {
   "cell_type": "code",
   "execution_count": null,
   "metadata": {},
   "outputs": [],
   "source": [
    "class Universe:\n",
    "  __init__(self, )"
   ]
  },
  {
   "cell_type": "code",
   "execution_count": 9,
   "metadata": {},
   "outputs": [
    {
     "name": "stdout",
     "output_type": "stream",
     "text": [
      "  message: Required step size is less than spacing between numbers.\n",
      "  success: False\n",
      "   status: -1\n",
      "        t: [ 0.000e+00 -1.001e+17 -2.002e+17]\n",
      "        y: [[ 1.000e+00  7.574e-01  4.665e-01]]\n",
      "      sol: None\n",
      " t_events: None\n",
      " y_events: None\n",
      "     nfev: 530\n",
      "     njev: 0\n",
      "      nlu: 0\n",
      "  message: The solver successfully reached the end of the integration interval.\n",
      "  success: True\n",
      "   status: 0\n",
      "        t: [ 0.000e+00  1.001e+17 ...  9.990e+19  1.000e+20]\n",
      "        y: [[ 1.000e+00  1.216e+00 ...  4.882e+01  4.886e+01]]\n",
      "      sol: None\n",
      " t_events: None\n",
      " y_events: None\n",
      "     nfev: 176\n",
      "     njev: 0\n",
      "      nlu: 0\n",
      "[-2.00200200e+17 -1.00100100e+17  0.00000000e+00 ...  9.97997998e+19\n",
      "  9.98998999e+19  1.00000000e+20]\n"
     ]
    },
    {
     "name": "stderr",
     "output_type": "stream",
     "text": [
      "/tmp/ipykernel_4145/2212026604.py:6: RuntimeWarning: invalid value encountered in sqrt\n",
      "  return H0*(Omega_m*a**-1 + Omega_r*a**-2 + Omega_L*a**2 - Omega_k)**0.5\n"
     ]
    },
    {
     "data": {
      "text/plain": [
       "[<matplotlib.lines.Line2D at 0x7f224044ab00>]"
      ]
     },
     "execution_count": 9,
     "metadata": {},
     "output_type": "execute_result"
    },
    {
     "data": {
      "image/png": "[encoded data removed]",
      "text/plain": [
       "<Figure size 640x480 with 1 Axes>"
      ]
     },
     "metadata": {},
     "output_type": "display_data"
    }
   ],
   "source": [
    "t_lims = [-1e20, 1e20]\n",
    "Omega_m, Omega_r, Omega_L, Omega_k = Omega0['m'], Omega0['r'], Omega0['L'], Omega0['k']*c**2\n",
    "\n",
    "\n",
    "def f(t, a):\n",
    "  return H0*(Omega_m*a**-1 + Omega_r*a**-2 + Omega_L*a**2 - Omega_k)**0.5\n",
    "\n",
    "Y_past = solve_ivp(f, (0, t_lims[0]), y0 = [1.0], method= 'RK45', t_eval= np.linspace(0, t_lims[0], 1000))\n",
    "Y_future = solve_ivp(f, (0, t_lims[1]), y0 = [1.0], method= 'RK45', t_eval= np.linspace(0, t_lims[1], 1000))\n",
    "\n",
    "print(Y_past)\n",
    "print(Y_future)\n",
    "\n",
    "\n",
    "T = np.append(np.flip(Y_past.t), Y_future.t)\n",
    "a = np.append(np.flip(Y_past.y[0]), Y_future.y[0])\n",
    "print(T)\n",
    "plt.plot(T,a)"
   ]
  }
 ],
 "metadata": {
  "kernelspec": {
   "display_name": "Python 3",
   "language": "python",
   "name": "python3"
  },
  "language_info": {
   "codemirror_mode": {
    "name": "ipython",
    "version": 3
   },
   "file_extension": ".py",
   "mimetype": "text/x-python",
   "name": "python",
   "nbconvert_exporter": "python",
   "pygments_lexer": "ipython3",
   "version": "3.10.12"
  }
 },
 "nbformat": 4,
 "nbformat_minor": 2
}
