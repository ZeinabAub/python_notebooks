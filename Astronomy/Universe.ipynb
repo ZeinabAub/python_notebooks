{
 "cells": [
  {
   "cell_type": "markdown",
   "metadata": {},
   "source": [
    "# Universe Evolution from the Friedmann equations"
   ]
  },
  {
   "cell_type": "markdown",
   "metadata": {},
   "source": [
    "# Friedmann Equations\n",
    "\n",
    "The equations are\n",
    "$$ \\left( \\frac{\\dot a}{a} \\right)^2 = \\frac{8 \\pi G}{3} \\rho - \\frac{kc^2}{a^2}$$  \n",
    "$$ \\dot\\rho_i =  -3\\frac{\\dot a}{a}\\left(\\rho_i+\\frac{P_i}{c^2}\\right) $$ \n",
    "This can be rewritten using  $$ p(t) = p_0 \\left( \\frac{a}{a_0} \\right) ^{-3(1+w)}$$\n",
    "using the ratio $$ \\Omega=\\frac{\\rho}{\\rho_c}= \\rho \\frac{8 \\pi G}{3H^2} $$ \n",
    "and\n",
    "$$\\Omega-1=\\frac{kc^2}{H^2a^2}=\\Omega_k$$\n",
    "If $\\Omega_k$ is not zero, his value fixes $a_0$ and $k$. But in the following process we can set $a_0=1$ to find $\\frac{a(t)}{a_0}$\n",
    "$$ \\left( \\frac{\\dot a}{a} \\right)^2 = H_0^2 (\\Omega_ma^{-3} + \\Omega_r a^{-4} + \\Omega_\\Lambda- \\Omega_k a^{-2}) $$  \n"
   ]
  },
  {
   "cell_type": "markdown",
   "metadata": {},
   "source": [
    "# Universe class\n",
    "This class contains the parameters of the universe to be simulated. The evolution is decided by the present Hubble parameter $H_0$ and the energy density ratio $\\Omega_i$ in respect to the critical energy density $\\rho_c$"
   ]
  },
  {
   "cell_type": "code",
   "execution_count": 336,
   "metadata": {},
   "outputs": [],
   "source": [
    "import matplotlib.pyplot as plt\n",
    "import numpy as np\n",
    "from scipy.integrate import solve_ivp\n",
    "\n",
    "G = 6.6743e-11 #G in SI\n",
    "c =  299792458 #G in SI\n",
    "H0 = 2.27e-18 #Hubble constant in Si units\n",
    "Mpc = 3.085677581e22 #Mpc in Meters"
   ]
  },
  {
   "cell_type": "code",
   "execution_count": 337,
   "metadata": {},
   "outputs": [],
   "source": [
    "\n",
    "critical_density = lambda H : 3*H**2/(8*np.pi*G)  #Get the critical density for a flat universe, using the present Hubble value\n",
    "second2Gyear = lambda t: t/(3600*24*365.25*1e9)   #Seconds to Gigayears conversion\n",
    "Gyear2second = lambda t: t*(3600*24*365.25*1e9)   #Gigayears to secondsconversion\n",
    "Hubble2SI = lambda H : H*1e3/Mpc  #Hubble constant from km/(s*Mpc) to SI units"
   ]
  },
  {
   "cell_type": "code",
   "execution_count": 338,
   "metadata": {},
   "outputs": [],
   "source": [
    "Omega0 = {'m': 1.0, 'r':0.0, 'L': 0.0}"
   ]
  },
  {
   "cell_type": "code",
   "execution_count": 339,
   "metadata": {},
   "outputs": [],
   "source": [
    "class universe:\n",
    "  Omega = []\n",
    "  Omega0 = {}\n",
    "  H0_notSI = 0\n",
    "  H0 = 0\n",
    "  k = 0\n",
    "  def __init__(self,H0, Omega0):\n",
    "    self.Omega0 = Omega0\n",
    "    self.H0_notSI = H0\n",
    "    self.H0 = Hubble2SI(H0)\n",
    "    print()\n",
    "    Omega0['k'] = Omega0['m']+Omega0['r']+Omega0['L']-1\n",
    "    self.k = 0 if Omega0['k']==0 else 1 if Omega0['k']>0 else -1\n",
    "    print(self)\n",
    "    \n",
    "  def __str__(self):  #String associated to the class that will be printed when calling print(universe)\n",
    "    curvature = 'flat' if self.k==0 else 'open' if self.k==-1 else 'close'\n",
    "    s = f'Universe with a present Hubble parameter of {self.H0_notSI} km/(s Mpc).\\n\\\n",
    "    The critical energy density is {critical_density(self.H0)}, the present one has components {self.Omega0}.\\n\\\n",
    "    The universe is {curvature} (k = {self.k}).'\n",
    "    return s\n",
    "\n",
    "  def f(self, t, a, H0, Omega0):\n",
    "    return a*H0*(Omega0['m']*a**(-3) + Omega0['r']*a**(-4) + Omega0['L'] - Omega0['k']*a**(-2))**0.5\n",
    "\n",
    "  def eventAttr():  #decorartor needed to set terminal=True\n",
    "    def decorator(func):\n",
    "        func.terminal = True\n",
    "        return func\n",
    "    return decorator\n",
    "\n",
    "  @eventAttr()  \n",
    "  def singularity(self, t, a, H0, Omega0): return a #Stop the evolution if a singularity (a=0) is found\n",
    "\n",
    "  def evolution(self, t_past, t_future):\n",
    "    t_lims = [Gyear2second(t_past), Gyear2second(t_future)]\n",
    "    Y_past = solve_ivp(self.f, (0, t_lims[0]), y0=[1.0], method='RK45', t_eval=np.linspace(0, t_lims[0], 1000), events = self.singularity, args=(self.H0, self.Omega0))\n",
    "    print('Done past evolution')\n",
    "    Y_future = solve_ivp(self.f, (0, t_lims[1]), y0=[1.0], method='RK45', t_eval=np.linspace(0, t_lims[1], 1000), events = self.singularity, args=(self.H0, self.Omega0))\n",
    "    print('Done future evolution')\n",
    "    T = np.append(np.flip(Y_past.t), Y_future.t)\n",
    "    a = np.append(np.flip(Y_past.y[0]), Y_future.y[0])\n",
    "    return second2Gyear(np.array(T)), np.array(a)\n",
    "\n",
    "  "
   ]
  },
  {
   "cell_type": "code",
   "execution_count": 340,
   "metadata": {},
   "outputs": [
    {
     "name": "stdout",
     "output_type": "stream",
     "text": [
      "\n",
      "Universe with a present Hubble parameter of 70 km/(s Mpc).\n",
      "    The critical energy density is 9.203873925903795e-27, the present one has components {'m': 1.5, 'r': 0.0, 'L': 0.0, 'k': 0.5}.\n",
      "    The universe is close (k = 1).\n",
      "Done past evolution\n",
      "Done future evolution\n"
     ]
    },
    {
     "name": "stderr",
     "output_type": "stream",
     "text": [
      "/tmp/ipykernel_12193/3171262862.py:24: RuntimeWarning: invalid value encountered in sqrt\n",
      "  return a*H0*(Omega0['m']*a**(-3) + Omega0['r']*a**(-4) + Omega0['L'] - Omega0['k']*a**(-2))**0.5\n"
     ]
    },
    {
     "data": {
      "text/plain": [
       "[<matplotlib.lines.Line2D at 0x7f0998273b50>]"
      ]
     },
     "execution_count": 340,
     "metadata": {},
     "output_type": "execute_result"
    },
    {
     "data": {
      "image/png": "[encoded data removed]",
      "text/plain": [
       "<Figure size 640x480 with 1 Axes>"
      ]
     },
     "metadata": {},
     "output_type": "display_data"
    }
   ],
   "source": [
    "u = universe(70, {'m':1.5, 'r':0.0, 'L': 0.00})\n",
    "T, a = u.evolution(-10, 100)\n",
    "\n",
    "plt.plot(T,a)"
   ]
  }
 ],
 "metadata": {
  "kernelspec": {
   "display_name": "Python 3",
   "language": "python",
   "name": "python3"
  },
  "language_info": {
   "codemirror_mode": {
    "name": "ipython",
    "version": 3
   },
   "file_extension": ".py",
   "mimetype": "text/x-python",
   "name": "python",
   "nbconvert_exporter": "python",
   "pygments_lexer": "ipython3",
   "version": "3.10.12"
  }
 },
 "nbformat": 4,
 "nbformat_minor": 2
}
